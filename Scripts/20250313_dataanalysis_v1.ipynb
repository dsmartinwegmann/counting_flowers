{
  "metadata": {
    "kernelspec": {
      "name": "python",
      "display_name": "Python (Pyodide)",
      "language": "python"
    },
    "language_info": {
      "codemirror_mode": {
        "name": "python",
        "version": 3
      },
      "file_extension": ".py",
      "mimetype": "text/x-python",
      "name": "python",
      "nbconvert_exporter": "python",
      "pygments_lexer": "ipython3",
      "version": "3.8"
    }
  },
  "nbformat_minor": 5,
  "nbformat": 4,
  "cells": [
    {
      "id": "2834b9b2-72a6-47fd-a749-9601914c527a",
      "cell_type": "markdown",
      "source": "# Contact Information",
      "metadata": {}
    },
    {
      "id": "cbb76626-0970-4dc9-867b-a945f57d463d",
      "cell_type": "markdown",
      "source": "Author: Martin Wegmann\n\nContact: martin.wegmann@unibe.ch\n\nDate: 13.03.2025",
      "metadata": {}
    },
    {
      "id": "e399d46f-bac9-4043-a3fc-5ac272b50293",
      "cell_type": "markdown",
      "source": "# Analysis",
      "metadata": {}
    },
    {
      "id": "80cc53cf-853a-480c-9b13-a656ab210200",
      "cell_type": "markdown",
      "source": "This is the computation of bunny fur color\n\n* Bunny 1\n* Bunny 2\n* Bunny 3",
      "metadata": {}
    },
    {
      "id": "3c8ccbb9-7ce0-4997-9d04-2ceabbaf3f16",
      "cell_type": "code",
      "source": "temperature=234+4545",
      "metadata": {
        "trusted": true
      },
      "outputs": [],
      "execution_count": 1
    },
    {
      "id": "78fb9cce-c983-4dc4-8059-00d4a358c15e",
      "cell_type": "code",
      "source": "temperature",
      "metadata": {
        "trusted": true
      },
      "outputs": [
        {
          "execution_count": 2,
          "output_type": "execute_result",
          "data": {
            "text/plain": "4779"
          },
          "metadata": {}
        }
      ],
      "execution_count": 2
    },
    {
      "id": "2e32fb3a-af4a-4c46-822f-790658380e94",
      "cell_type": "code",
      "source": "",
      "metadata": {
        "trusted": true
      },
      "outputs": [],
      "execution_count": null
    }
  ]
}